{
 "cells": [
  {
   "cell_type": "code",
   "execution_count": null,
   "metadata": {},
   "outputs": [],
   "source": [
    "#https://huggingface.co/wbbbbb/wav2vec2-large-chinese-zh-cn\n",
    "!pip3 install huggingsound"
   ]
  },
  {
   "cell_type": "code",
   "execution_count": null,
   "metadata": {},
   "outputs": [],
   "source": [
    "import os\n",
    "from huggingsound import SpeechRecognitionModel\n",
    "\n",
    "model = SpeechRecognitionModel(\"wbbbbb/wav2vec2-large-chinese-zh-cn\")\n",
    "\n",
    "def transcribe_Wav2vec(filename):\n",
    "    transcriptions = model.transcribe([filename,])\n",
    "    return transcriptions[0]['transcription']"
   ]
  },
  {
   "cell_type": "code",
   "execution_count": null,
   "metadata": {},
   "outputs": [],
   "source": [
    "for i in range(1, 71):\n",
    "    number = str(i).zfill(2)\n",
    "    with open(f'predicted_transcription/Wav2vec/00{number}/D00{number}_A_predicted.txt', 'w') as output_file:\n",
    "        input_files = [f for f in os.listdir(f\"segmented_audio/conversationA/00{number}\")]\n",
    "        for input_file in input_files:\n",
    "            predicted = transcribe_Wav2vec(f'segmented_audio/conversationA/00{number}/{input_file}')\n",
    "            output_file.write(f'{predicted}\\n')"
   ]
  },
  {
   "cell_type": "code",
   "execution_count": null,
   "metadata": {},
   "outputs": [],
   "source": [
    "for i in range(1, 71):\n",
    "    number = str(i).zfill(2)\n",
    "    with open(f'predicted_transcription/Wav2vec/00{number}/D00{number}_B_predicted.txt', 'w') as output_file:\n",
    "        input_files = [f for f in os.listdir(f\"segmented_audio/conversationB/00{number}\")]\n",
    "        for input_file in input_files:\n",
    "            predicted = transcribe_Wav2vec(f'segmented_audio/conversationB/00{number}/{input_file}')\n",
    "            output_file.write(f'{predicted}\\n')"
   ]
  },
  {
   "cell_type": "code",
   "execution_count": null,
   "metadata": {},
   "outputs": [],
   "source": [
    "for i in range(1, 71):\n",
    "    number = str(i).zfill(2)\n",
    "    with open(f'predicted_transcription/Wav2vec/00{number}/P00{number}_predicted.txt', 'w') as output_file:\n",
    "        input_files = [f for f in os.listdir(f\"segmented_audio/voice_command/00{number}\")]\n",
    "        for input_file in input_files:\n",
    "            predicted = transcribe_Wav2vec(f'segmented_audio/voice_command/00{number}/{input_file}')\n",
    "            output_file.write(f'{predicted}\\n')"
   ]
  }
 ],
 "metadata": {
  "kernelspec": {
   "display_name": "myenv",
   "language": "python",
   "name": "python3"
  },
  "language_info": {
   "codemirror_mode": {
    "name": "ipython",
    "version": 3
   },
   "file_extension": ".py",
   "mimetype": "text/x-python",
   "name": "python",
   "nbconvert_exporter": "python",
   "pygments_lexer": "ipython3",
   "version": "3.12.3"
  }
 },
 "nbformat": 4,
 "nbformat_minor": 2
}
