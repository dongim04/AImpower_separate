{
 "cells": [
  {
   "cell_type": "code",
   "execution_count": null,
   "metadata": {},
   "outputs": [],
   "source": [
    "# !pip3 install azure-cognitiveservices-speech"
   ]
  },
  {
   "cell_type": "code",
   "execution_count": 1,
   "metadata": {},
   "outputs": [],
   "source": [
    "import os\n",
    "import azure.cognitiveservices.speech as speechsdk\n",
    "\n",
    "# speech_config = speechsdk.SpeechConfig(subscription=os.environ.get('SPEECH_KEY'), region=os.environ.get('SPEECH_REGION'))\n",
    "speech_config = speechsdk.SpeechConfig(subscription='8b57e603df864874b8a44d2e2f269bc2', region='eastus')\n",
    "speech_config.speech_recognition_language=\"zh-CN\"\n",
    "\n",
    "def transcribe_Azure(filename):\n",
    "    audio_config = speechsdk.audio.AudioConfig(filename=filename)\n",
    "    speech_recognizer = speechsdk.SpeechRecognizer(speech_config=speech_config, audio_config=audio_config)\n",
    "    speech_recognition_result = speech_recognizer.recognize_once_async().get()\n",
    "    return speech_recognition_result.text"
   ]
  },
  {
   "cell_type": "code",
   "execution_count": null,
   "metadata": {},
   "outputs": [],
   "source": [
    "for i in range(1, 71):\n",
    "    number = str(i).zfill(2)\n",
    "    with open(f'predicted_transcription/Azure/00{number}/D00{number}_A_predicted.txt', 'w') as output_file:\n",
    "        input_files = [f for f in os.listdir(f\"segmented_audio/conversationA/00{number}\")]\n",
    "        for input_file in input_files:\n",
    "            predicted = transcribe_Azure(f'segmented_audio/conversationA/00{number}/{input_file}')\n",
    "            output_file.write(f'{predicted}\\n')"
   ]
  },
  {
   "cell_type": "code",
   "execution_count": null,
   "metadata": {},
   "outputs": [],
   "source": [
    "for i in range(1, 71):\n",
    "    number = str(i).zfill(2)\n",
    "    with open(f'predicted_transcription/Azure/00{number}/D00{number}_B_predicted.txt', 'w') as output_file:\n",
    "        input_files = [f for f in os.listdir(f\"segmented_audio/conversationB/00{number}\")]\n",
    "        for input_file in input_files:\n",
    "            predicted = transcribe_Azure(f'segmented_audio/conversationB/00{number}/{input_file}')\n",
    "            output_file.write(f'{predicted}\\n')\n",
    "    print(i)"
   ]
  },
  {
   "cell_type": "code",
   "execution_count": 23,
   "metadata": {},
   "outputs": [],
   "source": [
    "for i in range(1, 71):\n",
    "    number = str(i).zfill(2)\n",
    "    with open(f'predicted_transcription/Azure/00{number}/P00{number}_predicted.txt', 'w') as output_file:\n",
    "        input_files = [f for f in os.listdir(f\"segmented_audio/voice_command/00{number}\")]\n",
    "        for input_file in input_files:\n",
    "            predicted = transcribe_Azure(f'segmented_audio/voice_command/00{number}/{input_file}')\n",
    "            output_file.write(f'{predicted}\\n')"
   ]
  }
 ],
 "metadata": {
  "kernelspec": {
   "display_name": "myenv",
   "language": "python",
   "name": "python3"
  },
  "language_info": {
   "codemirror_mode": {
    "name": "ipython",
    "version": 3
   },
   "file_extension": ".py",
   "mimetype": "text/x-python",
   "name": "python",
   "nbconvert_exporter": "python",
   "pygments_lexer": "ipython3",
   "version": "3.9.13"
  }
 },
 "nbformat": 4,
 "nbformat_minor": 2
}
