{
 "cells": [
  {
   "cell_type": "code",
   "execution_count": null,
   "metadata": {},
   "outputs": [],
   "source": [
    "#https://huggingface.co/wbbbbb/wav2vec2-large-chinese-zh-cn\n",
    "# !pip3 install huggingsound"
   ]
  },
  {
   "cell_type": "code",
   "execution_count": 16,
   "metadata": {},
   "outputs": [
    {
     "name": "stdout",
     "output_type": "stream",
     "text": [
      "06/04/2024 15:27:17 - INFO - huggingsound.speech_recognition.model - Loading model...\n"
     ]
    },
    {
     "name": "stderr",
     "output_type": "stream",
     "text": [
      "/Users/dongimlee/Library/CloudStorage/OneDrive-OlinCollegeofEngineering/PIT/AImpower_separate/myenv/lib/python3.9/site-packages/huggingface_hub/file_download.py:1132: FutureWarning: `resume_download` is deprecated and will be removed in version 1.0.0. Downloads always resume when possible. If you want to force a new download, use `force_download=True`.\n",
      "  warnings.warn(\n"
     ]
    },
    {
     "name": "stdout",
     "output_type": "stream",
     "text": [
      "06/04/2024 15:27:25 - WARNING - root - bos_token <s> not in provided tokens. It will be added to the list of tokens\n",
      "06/04/2024 15:27:25 - WARNING - root - eos_token </s> not in provided tokens. It will be added to the list of tokens\n"
     ]
    }
   ],
   "source": [
    "import os\n",
    "from huggingsound import SpeechRecognitionModel\n",
    "\n",
    "model = SpeechRecognitionModel(\"wbbbbb/wav2vec2-large-chinese-zh-cn\")\n",
    "\n",
    "def transcribe_Wav2vec(filename):\n",
    "    transcriptions = model.transcribe([filename,])\n",
    "    return transcriptions[0]['transcription']"
   ]
  },
  {
   "cell_type": "code",
   "execution_count": 18,
   "metadata": {},
   "outputs": [
    {
     "name": "stderr",
     "output_type": "stream",
     "text": [
      "100%|██████████| 1/1 [00:01<00:00,  1.79s/it]\n",
      "100%|██████████| 1/1 [00:14<00:00, 14.57s/it]\n",
      "100%|██████████| 1/1 [00:31<00:00, 31.39s/it]\n",
      "100%|██████████| 1/1 [00:14<00:00, 14.45s/it]\n",
      "100%|██████████| 1/1 [00:30<00:00, 30.82s/it]\n",
      "100%|██████████| 1/1 [00:27<00:00, 27.02s/it]\n",
      "100%|██████████| 1/1 [00:13<00:00, 13.30s/it]\n",
      "100%|██████████| 1/1 [00:16<00:00, 16.82s/it]\n",
      "100%|██████████| 1/1 [00:01<00:00,  1.92s/it]\n",
      "100%|██████████| 1/1 [00:40<00:00, 40.08s/it]\n",
      "100%|██████████| 1/1 [00:13<00:00, 13.73s/it]\n",
      "100%|██████████| 1/1 [00:47<00:00, 47.21s/it]\n",
      "100%|██████████| 1/1 [00:07<00:00,  7.19s/it]\n",
      "100%|██████████| 1/1 [00:51<00:00, 51.15s/it]\n",
      "100%|██████████| 1/1 [00:52<00:00, 52.46s/it]\n",
      "100%|██████████| 1/1 [00:40<00:00, 40.14s/it]\n",
      "100%|██████████| 1/1 [00:16<00:00, 16.56s/it]\n",
      "100%|██████████| 1/1 [00:51<00:00, 51.91s/it]\n",
      "100%|██████████| 1/1 [01:15<00:00, 75.50s/it]\n",
      "100%|██████████| 1/1 [01:09<00:00, 69.72s/it]\n",
      "100%|██████████| 1/1 [00:18<00:00, 18.13s/it]\n",
      "  0%|          | 0/1 [00:00<?, ?it/s]"
     ]
    }
   ],
   "source": [
    "for i in range(1, 71):\n",
    "    number = str(i).zfill(2)\n",
    "    with open(f'predicted_transcription/Wav2vec/00{number}/D00{number}_A_predicted.txt', 'w') as output_file:\n",
    "        input_files = [f for f in os.listdir(f\"segmented_audio/conversationA/00{number}\")]\n",
    "        for input_file in input_files:\n",
    "            predicted = transcribe_Wav2vec(f'segmented_audio/conversationA/00{number}/{input_file}')\n",
    "            output_file.write(f'{predicted}\\n')\n",
    "    print(i)"
   ]
  },
  {
   "cell_type": "code",
   "execution_count": null,
   "metadata": {},
   "outputs": [],
   "source": [
    "for i in range(1, 71):\n",
    "    number = str(i).zfill(2)\n",
    "    with open(f'predicted_transcription/Wav2vec/00{number}/D00{number}_B_predicted.txt', 'w') as output_file:\n",
    "        input_files = [f for f in os.listdir(f\"segmented_audio/conversationB/00{number}\")]\n",
    "        for input_file in input_files:\n",
    "            predicted = transcribe_Wav2vec(f'segmented_audio/conversationB/00{number}/{input_file}')\n",
    "            output_file.write(f'{predicted}\\n')"
   ]
  },
  {
   "cell_type": "code",
   "execution_count": null,
   "metadata": {},
   "outputs": [],
   "source": [
    "for i in range(1, 71):\n",
    "    number = str(i).zfill(2)\n",
    "    with open(f'predicted_transcription/Wav2vec/00{number}/P00{number}_predicted.txt', 'w') as output_file:\n",
    "        input_files = [f for f in os.listdir(f\"segmented_audio/voice_command/00{number}\")]\n",
    "        for input_file in input_files:\n",
    "            predicted = transcribe_Wav2vec(f'segmented_audio/voice_command/00{number}/{input_file}')\n",
    "            output_file.write(f'{predicted}\\n')"
   ]
  }
 ],
 "metadata": {
  "kernelspec": {
   "display_name": "myenv",
   "language": "python",
   "name": "python3"
  },
  "language_info": {
   "codemirror_mode": {
    "name": "ipython",
    "version": 3
   },
   "file_extension": ".py",
   "mimetype": "text/x-python",
   "name": "python",
   "nbconvert_exporter": "python",
   "pygments_lexer": "ipython3",
   "version": "3.9.13"
  }
 },
 "nbformat": 4,
 "nbformat_minor": 2
}
