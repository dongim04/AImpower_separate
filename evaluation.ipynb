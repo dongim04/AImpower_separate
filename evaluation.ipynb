{
 "cells": [
  {
   "cell_type": "code",
   "execution_count": null,
   "metadata": {},
   "outputs": [],
   "source": [
    "# !pip3 install jiwer"
   ]
  },
  {
   "cell_type": "code",
   "execution_count": null,
   "metadata": {},
   "outputs": [],
   "source": [
    "from jiwer import wer\n",
    "\n",
    "file1 = open(\"D0045_A.txt\", \"r\")\n",
    "content1 = file1.read()\n",
    "file2 = open(\"D0045_B.txt\", \"r\")\n",
    "content2 = file2.read()\n",
    "file3 = open(\"P0045.txt\", \"r\")\n",
    "content3 = file3.read()\n",
    "reference = content1 + content2 + content3\n",
    "\n",
    "file4 = open(\"whisper_large.txt\", \"r\")\n",
    "large_hypothesis = file4.read()\n",
    "\n",
    "file5 = open(\"whisper_tiny.txt\", \"r\")\n",
    "tiny_hypothesis = file5.read()"
   ]
  },
  {
   "cell_type": "code",
   "execution_count": null,
   "metadata": {},
   "outputs": [],
   "source": [
    "## Clean the transcription file\n",
    "# import re\n",
    "\n",
    "# # Regex pattern to match \"{number}\\t{number}\\t\"\n",
    "# pattern = r'\\d+\\.\\d+\\t\\d+\\.\\d+\\t'\n",
    "\n",
    "# # Replace the matched patterns with an empty string\n",
    "# cleaned_reference = re.sub(pattern, '', reference)\n",
    "\n",
    "# print(cleaned_reference)"
   ]
  },
  {
   "cell_type": "code",
   "execution_count": null,
   "metadata": {},
   "outputs": [],
   "source": [
    "large_error = wer(cleaned_reference, large_hypothesis)\n",
    "tiny_error = wer(cleaned_reference, tiny_hypothesis)\n",
    "\n",
    "print(f\"Large model: {large_error}% | Tiny model: {tiny_error}%\")"
   ]
  }
 ],
 "metadata": {
  "language_info": {
   "name": "python"
  }
 },
 "nbformat": 4,
 "nbformat_minor": 2
}
