{
 "cells": [
  {
   "cell_type": "code",
   "execution_count": 70,
   "metadata": {},
   "outputs": [],
   "source": [
    "import pandas as pd\n",
    "dictionary = {'Filename': [], 'Whisper': [], 'Azure': [], 'Wav2vec2': [], 'Google': [], 'Otter.AI': []}\n",
    "df = pd.DataFrame(dictionary)\n",
    "\n",
    "# Create filenames\n",
    "filename = []\n",
    "for i in range(1, 71):\n",
    "    number = str(i).zfill(2)\n",
    "    filename.extend((f'D00{number}_A', f'D00{number}_B', f'P00{number}'))\n",
    "df['Filename'] = filename"
   ]
  },
  {
   "cell_type": "code",
   "execution_count": null,
   "metadata": {},
   "outputs": [],
   "source": [
    "# model_names = ['Whisper', 'Azure', 'Wav2vec2', 'Google', 'Otter.AI']\n",
    "model_names = ['Azure']\n",
    "\n",
    "for name in model_names:\n",
    "    model_name = name\n",
    "    for i in range(1,71):\n",
    "        number = str(i).zfill(2)\n",
    "        transcript_path = f'{model_name}/00{number}/'\n",
    "        with open(transcript_path + f'D00{number}_A_predicted.txt', 'r') as f:\n",
    "            mask = df['Filename'].str.contains(f'D00{number}_A')\n",
    "            df.loc[mask, model_name] = f.read()\n",
    "        with open(transcript_path + f'D00{number}_B_predicted.txt', 'r') as f:\n",
    "            mask = df['Filename'].str.contains(f'D00{number}_B')\n",
    "            df.loc[mask, model_name] = f.read()\n",
    "        with open(transcript_path + f'P00{number}_predicted.txt', 'r') as f:\n",
    "            mask = df['Filename'].str.contains(f'P00{number}')\n",
    "            df.loc[mask, model_name] = f.read()"
   ]
  },
  {
   "cell_type": "code",
   "execution_count": null,
   "metadata": {},
   "outputs": [],
   "source": [
    "df.to_csv('predicted_transcription.csv')"
   ]
  }
 ],
 "metadata": {
  "kernelspec": {
   "display_name": "myenv",
   "language": "python",
   "name": "python3"
  },
  "language_info": {
   "codemirror_mode": {
    "name": "ipython",
    "version": 3
   },
   "file_extension": ".py",
   "mimetype": "text/x-python",
   "name": "python",
   "nbconvert_exporter": "python",
   "pygments_lexer": "ipython3",
   "version": "3.9.13"
  }
 },
 "nbformat": 4,
 "nbformat_minor": 2
}
