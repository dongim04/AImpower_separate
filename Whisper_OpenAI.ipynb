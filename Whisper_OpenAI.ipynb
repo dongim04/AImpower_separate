{
 "cells": [
  {
   "cell_type": "code",
   "execution_count": 4,
   "metadata": {},
   "outputs": [],
   "source": [
    "# !pip3 install git+https://github.com/openai/whisper.git"
   ]
  },
  {
   "cell_type": "code",
   "execution_count": 1,
   "metadata": {},
   "outputs": [
    {
     "name": "stderr",
     "output_type": "stream",
     "text": [
      "/Users/dongimlee/Library/CloudStorage/OneDrive-OlinCollegeofEngineering/PIT/AImpower_separate/myenv/lib/python3.9/site-packages/tqdm/auto.py:21: TqdmWarning: IProgress not found. Please update jupyter and ipywidgets. See https://ipywidgets.readthedocs.io/en/stable/user_install.html\n",
      "  from .autonotebook import tqdm as notebook_tqdm\n"
     ]
    }
   ],
   "source": [
    "import os\n",
    "import whisper\n",
    "\n",
    "model = whisper.load_model(\"tiny\")\n",
    "\n",
    "def transcribe_Whisper(filename):\n",
    "    result = model.transcribe(filename)\n",
    "    return result[\"text\"]"
   ]
  },
  {
   "cell_type": "code",
   "execution_count": null,
   "metadata": {},
   "outputs": [],
   "source": [
    "for i in range(1, 71):\n",
    "    number = str(i).zfill(2)\n",
    "    with open(f'predicted_transcription/Whisper/00{number}/D00{number}_A_predicted.txt', 'w') as output_file:\n",
    "        input_files = [f for f in os.listdir(f\"segmented_audio/conversationA/00{number}\")]\n",
    "        for input_file in input_files:\n",
    "            predicted = transcribe_Whisper(f'segmented_audio/conversationA/00{number}/{input_file}')\n",
    "            output_file.write(f'{predicted}\\n')"
   ]
  },
  {
   "cell_type": "code",
   "execution_count": null,
   "metadata": {},
   "outputs": [],
   "source": [
    "for i in range(1, 71):\n",
    "    number = str(i).zfill(2)\n",
    "    with open(f'predicted_transcription/Whisper/00{number}/D00{number}_B_predicted.txt', 'w') as output_file:\n",
    "        input_files = [f for f in os.listdir(f\"segmented_audio/conversationB/00{number}\")]\n",
    "        for input_file in input_files:\n",
    "            predicted = transcribe_Whisper(f'segmented_audio/conversationB/00{number}/{input_file}')\n",
    "            output_file.write(f'{predicted}\\n')\n",
    "    print(i)"
   ]
  },
  {
   "cell_type": "code",
   "execution_count": null,
   "metadata": {},
   "outputs": [],
   "source": [
    "for i in range(1, 71):\n",
    "    number = str(i).zfill(2)\n",
    "    with open(f'predicted_transcription/Whisper/00{number}/P00{number}_predicted.txt', 'w') as output_file:\n",
    "        input_files = [f for f in os.listdir(f\"segmented_audio/voice_command/00{number}\")]\n",
    "        for input_file in input_files:\n",
    "            predicted = transcribe_Whisper(f'segmented_audio/voice_command/00{number}/{input_file}')\n",
    "            output_file.write(f'{predicted}\\n')"
   ]
  }
 ],
 "metadata": {
  "kernelspec": {
   "display_name": "myenv",
   "language": "python",
   "name": "python3"
  },
  "language_info": {
   "codemirror_mode": {
    "name": "ipython",
    "version": 3
   },
   "file_extension": ".py",
   "mimetype": "text/x-python",
   "name": "python",
   "nbconvert_exporter": "python",
   "pygments_lexer": "ipython3",
   "version": "3.9.13"
  }
 },
 "nbformat": 4,
 "nbformat_minor": 2
}
